{
 "cells": [
  {
   "cell_type": "code",
   "execution_count": 1,
   "metadata": {},
   "outputs": [],
   "source": [
    "using DifferentialEquations"
   ]
  },
  {
   "cell_type": "code",
   "execution_count": 2,
   "metadata": {},
   "outputs": [
    {
     "data": {
      "text/plain": [
       "virus_model (generic function with 1 method)"
      ]
     },
     "execution_count": 2,
     "metadata": {},
     "output_type": "execute_result"
    }
   ],
   "source": [
    "function virus_model(du,u,h,p,t)\n",
    "  L,t₀,k = p\n",
    "  u_delay = h(p, t-t₀)\n",
    "  du = k*u_delay*(1-u_delay/L)\n",
    "end"
   ]
  },
  {
   "cell_type": "code",
   "execution_count": 6,
   "metadata": {},
   "outputs": [
    {
     "data": {
      "text/plain": [
       "\u001b[36mDDEProblem\u001b[0m with uType \u001b[36mFloat64\u001b[0m and tType \u001b[36mFloat64\u001b[0m. In-place: \u001b[36mtrue\u001b[0m\n",
       "timespan: (0.0, 10.0)\n",
       "u0: 0.0"
      ]
     },
     "execution_count": 6,
     "metadata": {},
     "output_type": "execute_result"
    }
   ],
   "source": [
    "h(p, t) = 0.0\n",
    "\n",
    "L=10.0; k=1.0; t₀=1.0\n",
    "p = (L,t₀,k)\n",
    "tspan = (0.0,10.0)\n",
    "u0 = 0.0\n",
    "\n",
    "prob = DDEProblem(virus_model,u0,h,tspan,p; constant_lags=[t₀])"
   ]
  },
  {
   "cell_type": "code",
   "execution_count": 7,
   "metadata": {},
   "outputs": [
    {
     "ename": "MethodError",
     "evalue": "MethodError: no method matching similar(::Float64)\nClosest candidates are:\n  similar(!Matched::ZMQ.Message, !Matched::Type{T}, !Matched::Tuple{Vararg{Int64,N}} where N) where T at C:\\Users\\Robert\\.julia\\packages\\ZMQ\\KdNw3\\src\\message.jl:93\n  similar(!Matched::Sundials.NVector) at C:\\Users\\Robert\\.julia\\packages\\Sundials\\SKP8f\\src\\nvector_wrapper.jl:69\n  similar(!Matched::Array{T,1}) where T at array.jl:329\n  ...",
     "output_type": "error",
     "traceback": [
      "MethodError: no method matching similar(::Float64)\nClosest candidates are:\n  similar(!Matched::ZMQ.Message, !Matched::Type{T}, !Matched::Tuple{Vararg{Int64,N}} where N) where T at C:\\Users\\Robert\\.julia\\packages\\ZMQ\\KdNw3\\src\\message.jl:93\n  similar(!Matched::Sundials.NVector) at C:\\Users\\Robert\\.julia\\packages\\Sundials\\SKP8f\\src\\nvector_wrapper.jl:69\n  similar(!Matched::Array{T,1}) where T at array.jl:329\n  ...",
      "",
      "Stacktrace:",
      " [1] alg_cache(::Tsit5, ::Float64, ::Float64, ::Type, ::Type, ::Type, ::Float64, ::Float64, ::DelayDiffEq.ODEFunctionWrapper{true,typeof(virus_model),typeof(h),LinearAlgebra.UniformScaling{Bool},Nothing,Nothing,Nothing,Nothing,Nothing,Nothing,Nothing,Nothing,Nothing,Nothing}, ::Float64, ::Float64, ::Float64, ::Tuple{Float64,Float64,Float64}, ::Bool, ::Val{true}) at C:\\Users\\Robert\\.julia\\packages\\OrdinaryDiffEq\\8Pn99\\src\\caches\\low_order_rk_caches.jl:356",
      " [2] #build_history_function#44(::Float64, ::Bool, ::Bool, ::Function, ::typeof(DelayDiffEq.build_history_function), ::DDEProblem{Float64,Tuple{Float64,Float64},Array{Float64,1},Tuple{},true,Tuple{Float64,Float64,Float64},DDEFunction{true,typeof(virus_model),LinearAlgebra.UniformScaling{Bool},Nothing,Nothing,Nothing,Nothing,Nothing,Nothing,Nothing,Nothing,Nothing,Nothing,Nothing},typeof(h),Base.Iterators.Pairs{Union{},Union{},Tuple{},NamedTuple{(),Tuple{}}}}, ::MethodOfSteps{Tsit5,NLFunctional{Rational{Int64},Rational{Int64}},false}, ::Float64, ::Float64) at C:\\Users\\Robert\\.julia\\packages\\DelayDiffEq\\NW9wJ\\src\\utils.jl:294",
      " [3] (::DelayDiffEq.var\"#kw##build_history_function\")(::NamedTuple{(:dt, :adaptive, :internalnorm),Tuple{Float64,Bool,typeof(DiffEqBase.ODE_DEFAULT_NORM)}}, ::typeof(DelayDiffEq.build_history_function), ::DDEProblem{Float64,Tuple{Float64,Float64},Array{Float64,1},Tuple{},true,Tuple{Float64,Float64,Float64},DDEFunction{true,typeof(virus_model),LinearAlgebra.UniformScaling{Bool},Nothing,Nothing,Nothing,Nothing,Nothing,Nothing,Nothing,Nothing,Nothing,Nothing,Nothing},typeof(h),Base.Iterators.Pairs{Union{},Union{},Tuple{},NamedTuple{(),Tuple{}}}}, ::MethodOfSteps{Tsit5,NLFunctional{Rational{Int64},Rational{Int64}},false}, ::Float64, ::Float64) at .\\none:0",
      " [4] #__init#33(::Array{Float64,1}, ::Array{Float64,1}, ::Array{Discontinuity{Float64},1}, ::Nothing, ::Bool, ::Bool, ::Bool, ::Bool, ::Nothing, ::Bool, ::Bool, ::Float64, ::Float64, ::Float64, ::Bool, ::Bool, ::Rational{Int64}, ::Nothing, ::Nothing, ::Rational{Int64}, ::Int64, ::Int64, ::Int64, ::Rational{Int64}, ::Bool, ::Int64, ::Nothing, ::Nothing, ::Int64, ::typeof(DiffEqBase.ODE_DEFAULT_NORM), ::typeof(LinearAlgebra.opnorm), ::typeof(DiffEqBase.ODE_DEFAULT_ISOUTOFDOMAIN), ::typeof(DiffEqBase.ODE_DEFAULT_UNSTABLE_CHECK), ::Bool, ::Bool, ::Bool, ::Bool, ::Bool, ::Bool, ::Bool, ::Int64, ::String, ::typeof(DiffEqBase.ODE_DEFAULT_PROG_MESSAGE), ::Nothing, ::Bool, ::Bool, ::Bool, ::Int64, ::Float64, ::Int64, ::Base.Iterators.Pairs{Union{},Union{},Tuple{},NamedTuple{(),Tuple{}}}, ::typeof(DiffEqBase.__init), ::DDEProblem{Float64,Tuple{Float64,Float64},Array{Float64,1},Tuple{},true,Tuple{Float64,Float64,Float64},DDEFunction{true,typeof(virus_model),LinearAlgebra.UniformScaling{Bool},Nothing,Nothing,Nothing,Nothing,Nothing,Nothing,Nothing,Nothing,Nothing,Nothing,Nothing},typeof(h),Base.Iterators.Pairs{Union{},Union{},Tuple{},NamedTuple{(),Tuple{}}}}, ::MethodOfSteps{Tsit5,NLFunctional{Rational{Int64},Rational{Int64}},false}, ::Array{Float64,1}, ::Array{Float64,1}, ::Array{Any,1}) at C:\\Users\\Robert\\.julia\\packages\\DelayDiffEq\\NW9wJ\\src\\solve.jl:111",
      " [5] __init(::DDEProblem{Float64,Tuple{Float64,Float64},Array{Float64,1},Tuple{},true,Tuple{Float64,Float64,Float64},DDEFunction{true,typeof(virus_model),LinearAlgebra.UniformScaling{Bool},Nothing,Nothing,Nothing,Nothing,Nothing,Nothing,Nothing,Nothing,Nothing,Nothing,Nothing},typeof(h),Base.Iterators.Pairs{Union{},Union{},Tuple{},NamedTuple{(),Tuple{}}}}, ::MethodOfSteps{Tsit5,NLFunctional{Rational{Int64},Rational{Int64}},false}, ::Array{Float64,1}, ::Array{Float64,1}, ::Array{Any,1}) at C:\\Users\\Robert\\.julia\\packages\\DelayDiffEq\\NW9wJ\\src\\solve.jl:68 (repeats 2 times)",
      " [6] #__solve#32(::Base.Iterators.Pairs{Union{},Union{},Tuple{},NamedTuple{(),Tuple{}}}, ::typeof(DiffEqBase.__solve), ::DDEProblem{Float64,Tuple{Float64,Float64},Array{Float64,1},Tuple{},true,Tuple{Float64,Float64,Float64},DDEFunction{true,typeof(virus_model),LinearAlgebra.UniformScaling{Bool},Nothing,Nothing,Nothing,Nothing,Nothing,Nothing,Nothing,Nothing,Nothing,Nothing,Nothing},typeof(h),Base.Iterators.Pairs{Union{},Union{},Tuple{},NamedTuple{(),Tuple{}}}}, ::MethodOfSteps{Tsit5,NLFunctional{Rational{Int64},Rational{Int64}},false}) at C:\\Users\\Robert\\.julia\\packages\\DelayDiffEq\\NW9wJ\\src\\solve.jl:4",
      " [7] __solve(::DDEProblem{Float64,Tuple{Float64,Float64},Array{Float64,1},Tuple{},true,Tuple{Float64,Float64,Float64},DDEFunction{true,typeof(virus_model),LinearAlgebra.UniformScaling{Bool},Nothing,Nothing,Nothing,Nothing,Nothing,Nothing,Nothing,Nothing,Nothing,Nothing,Nothing},typeof(h),Base.Iterators.Pairs{Union{},Union{},Tuple{},NamedTuple{(),Tuple{}}}}, ::MethodOfSteps{Tsit5,NLFunctional{Rational{Int64},Rational{Int64}},false}) at C:\\Users\\Robert\\.julia\\packages\\DelayDiffEq\\NW9wJ\\src\\solve.jl:4",
      " [8] (::DiffEqBase.var\"#448#449\"{DDEProblem{Float64,Tuple{Float64,Float64},Array{Float64,1},Tuple{},true,Tuple{Float64,Float64,Float64},DDEFunction{true,typeof(virus_model),LinearAlgebra.UniformScaling{Bool},Nothing,Nothing,Nothing,Nothing,Nothing,Nothing,Nothing,Nothing,Nothing,Nothing,Nothing},typeof(h),Base.Iterators.Pairs{Union{},Union{},Tuple{},NamedTuple{(),Tuple{}}}},Tuple{MethodOfSteps{Tsit5,NLFunctional{Rational{Int64},Rational{Int64}},false}}})() at C:\\Users\\Robert\\.julia\\packages\\DiffEqBase\\gQwlE\\src\\solve.jl:49",
      " [9] maybe_with_logger(::DiffEqBase.var\"#448#449\"{DDEProblem{Float64,Tuple{Float64,Float64},Array{Float64,1},Tuple{},true,Tuple{Float64,Float64,Float64},DDEFunction{true,typeof(virus_model),LinearAlgebra.UniformScaling{Bool},Nothing,Nothing,Nothing,Nothing,Nothing,Nothing,Nothing,Nothing,Nothing,Nothing,Nothing},typeof(h),Base.Iterators.Pairs{Union{},Union{},Tuple{},NamedTuple{(),Tuple{}}}},Tuple{MethodOfSteps{Tsit5,NLFunctional{Rational{Int64},Rational{Int64}},false}}}, ::Nothing) at C:\\Users\\Robert\\.julia\\packages\\DiffEqBase\\gQwlE\\src\\utils.jl:259",
      " [10] #solve_call#447(::Bool, ::Base.Iterators.Pairs{Union{},Union{},Tuple{},NamedTuple{(),Tuple{}}}, ::typeof(DiffEqBase.solve_call), ::DDEProblem{Float64,Tuple{Float64,Float64},Array{Float64,1},Tuple{},true,Tuple{Float64,Float64,Float64},DDEFunction{true,typeof(virus_model),LinearAlgebra.UniformScaling{Bool},Nothing,Nothing,Nothing,Nothing,Nothing,Nothing,Nothing,Nothing,Nothing,Nothing,Nothing},typeof(h),Base.Iterators.Pairs{Union{},Union{},Tuple{},NamedTuple{(),Tuple{}}}}, ::MethodOfSteps{Tsit5,NLFunctional{Rational{Int64},Rational{Int64}},false}) at C:\\Users\\Robert\\.julia\\packages\\DiffEqBase\\gQwlE\\src\\solve.jl:48",
      " [11] solve_call(::DDEProblem{Float64,Tuple{Float64,Float64},Array{Float64,1},Tuple{},true,Tuple{Float64,Float64,Float64},DDEFunction{true,typeof(virus_model),LinearAlgebra.UniformScaling{Bool},Nothing,Nothing,Nothing,Nothing,Nothing,Nothing,Nothing,Nothing,Nothing,Nothing,Nothing},typeof(h),Base.Iterators.Pairs{Union{},Union{},Tuple{},NamedTuple{(),Tuple{}}}}, ::MethodOfSteps{Tsit5,NLFunctional{Rational{Int64},Rational{Int64}},false}) at C:\\Users\\Robert\\.julia\\packages\\DiffEqBase\\gQwlE\\src\\solve.jl:37",
      " [12] #solve#450(::Base.Iterators.Pairs{Union{},Union{},Tuple{},NamedTuple{(),Tuple{}}}, ::typeof(solve), ::DDEProblem{Float64,Tuple{Float64,Float64},Array{Float64,1},Tuple{},true,Tuple{Float64,Float64,Float64},DDEFunction{true,typeof(virus_model),LinearAlgebra.UniformScaling{Bool},Nothing,Nothing,Nothing,Nothing,Nothing,Nothing,Nothing,Nothing,Nothing,Nothing,Nothing},typeof(h),Base.Iterators.Pairs{Union{},Union{},Tuple{},NamedTuple{(),Tuple{}}}}, ::MethodOfSteps{Tsit5,NLFunctional{Rational{Int64},Rational{Int64}},false}) at C:\\Users\\Robert\\.julia\\packages\\DiffEqBase\\gQwlE\\src\\solve.jl:66",
      " [13] solve(::DDEProblem{Float64,Tuple{Float64,Float64},Array{Float64,1},Tuple{},true,Tuple{Float64,Float64,Float64},DDEFunction{true,typeof(virus_model),LinearAlgebra.UniformScaling{Bool},Nothing,Nothing,Nothing,Nothing,Nothing,Nothing,Nothing,Nothing,Nothing,Nothing,Nothing},typeof(h),Base.Iterators.Pairs{Union{},Union{},Tuple{},NamedTuple{(),Tuple{}}}}, ::MethodOfSteps{Tsit5,NLFunctional{Rational{Int64},Rational{Int64}},false}) at C:\\Users\\Robert\\.julia\\packages\\DiffEqBase\\gQwlE\\src\\solve.jl:54",
      " [14] top-level scope at In[7]:2"
     ]
    }
   ],
   "source": [
    "alg = MethodOfSteps(Tsit5())\n",
    "sol = solve(prob,alg)"
   ]
  },
  {
   "cell_type": "code",
   "execution_count": null,
   "metadata": {},
   "outputs": [],
   "source": [
    "using Plots; plot(sol)"
   ]
  }
 ],
 "metadata": {
  "kernelspec": {
   "display_name": "Julia 1.3.1",
   "language": "julia",
   "name": "julia-1.3"
  },
  "language_info": {
   "file_extension": ".jl",
   "mimetype": "application/julia",
   "name": "julia",
   "version": "1.3.1"
  }
 },
 "nbformat": 4,
 "nbformat_minor": 4
}
